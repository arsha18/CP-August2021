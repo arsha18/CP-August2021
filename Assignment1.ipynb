{
 "cells": [
  {
   "cell_type": "code",
   "execution_count": 1,
   "metadata": {},
   "outputs": [
    {
     "name": "stdout",
     "output_type": "stream",
     "text": [
      "MSE:  23.652529717841183\n"
     ]
    }
   ],
   "source": [
    "from sklearn.datasets import load_boston\n",
    "import numpy as np\n",
    "\n",
    "boston = load_boston()\n",
    "X = boston.data\n",
    "y = boston.target\n",
    "m = X.shape[0]  \n",
    "n = X.shape[1]  \n",
    "\n",
    "from sklearn.preprocessing import StandardScaler\n",
    "scaler = StandardScaler()\n",
    "X = scaler.fit_transform(X)\n",
    "\n",
    "from sklearn.model_selection import train_test_split\n",
    "X_train, X_test, y_train, y_test = train_test_split(X, y, test_size = 0.3)\n",
    "intercept = np.ones((X_train.shape[0], 1))\n",
    "X_train = np.concatenate((intercept, X_train), axis=1)\n",
    "intercept = np.ones((X_test.shape[0], 1))\n",
    "X_test = np.concatenate((intercept, X_test), axis=1)\n",
    "\n",
    "class LinearRegression:\n",
    "    \n",
    "    def __init__(self, alpha=0.002, max_iter=10000, \n",
    "            loss_old=10000, tol=1e-5, method=\"batch\"):\n",
    "        self.alpha = alpha\n",
    "        self.max_iter = max_iter\n",
    "        self.loss_old = loss_old\n",
    "        self.tol = tol\n",
    "        self.method = method\n",
    "    def fit(self, X, y):\n",
    "        self.theta = np.zeros(X.shape[1])\n",
    "        iter_stop = 0\n",
    "        list_of_used_ix = [] \n",
    "        \n",
    "        for i in range(self.max_iter):\n",
    "            \n",
    "            if self.method != \"batch\":\n",
    "                i = np.random.randint(X.shape[0])\n",
    "                while i in list_of_used_ix:\n",
    "                    i = np.random.randint(X.shape[0])\n",
    "                X_train = X[i, :].reshape(1, -1)\n",
    "                y_train = y[i]\n",
    "                list_of_used_ix.append(i)\n",
    "                if len(list_of_used_ix) == X.shape[0]:\n",
    "                    list_of_used_ix = []\n",
    "            else:\n",
    "                X_train = X\n",
    "                y_train = y\n",
    "            \n",
    "            yhat = self.h_theta(X_train)\n",
    "            error = yhat - y_train\n",
    "            \n",
    "            \n",
    "            loss_new = self.mse(yhat, y_train)\n",
    "            if self.delta_loss(loss_new, self.loss_old, self.tol):  #np.allclose\n",
    "                iter_stop = i\n",
    "                break\n",
    "            self.loss_old = loss_new\n",
    "\n",
    "            grad = self.gradient(X_train, error)\n",
    "            self.theta = self.theta - self.alpha * grad\n",
    "        \n",
    "    def h_theta(self, X):\n",
    "        return X @ self.theta\n",
    "\n",
    "    def mse(self, yhat, y):\n",
    "        return ((yhat - y)**2 / yhat.shape[0]).sum()\n",
    "\n",
    "    def delta_loss(self, loss_new, loss_old, tol):\n",
    "        return np.abs(loss_new - loss_old) < tol\n",
    "\n",
    "    def gradient(self, X, error):\n",
    "        return X.T @ error\n",
    "\n",
    "model = LinearRegression(method=\"sto\") \n",
    "model.fit(X_train, y_train)\n",
    "yhat = model.h_theta(X_test)\n",
    "mse = model.mse(yhat, y_test)\n",
    "print(\"MSE: \", mse)"
   ]
  },
  {
   "cell_type": "code",
   "execution_count": null,
   "metadata": {},
   "outputs": [],
   "source": []
  }
 ],
 "metadata": {
  "kernelspec": {
   "display_name": "Python 3",
   "language": "python",
   "name": "python3"
  },
  "language_info": {
   "codemirror_mode": {
    "name": "ipython",
    "version": 3
   },
   "file_extension": ".py",
   "mimetype": "text/x-python",
   "name": "python",
   "nbconvert_exporter": "python",
   "pygments_lexer": "ipython3",
   "version": "3.8.3"
  }
 },
 "nbformat": 4,
 "nbformat_minor": 4
}
